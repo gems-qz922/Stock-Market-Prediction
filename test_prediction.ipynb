{
 "cells": [
  {
   "cell_type": "code",
   "execution_count": 1,
   "id": "c6bfe22a",
   "metadata": {
    "scrolled": false
   },
   "outputs": [
    {
     "name": "stdout",
     "output_type": "stream",
     "text": [
      "{'log loss': 0.08043160289525986, 'val_log loss': 0.34380558133125305}\n",
      "{'log loss': 0.061826251447200775, 'val_log loss': 0.2717910706996918}\n",
      "{'log loss': 0.0411677211523056, 'val_log loss': 0.18645904958248138}\n",
      "{'log loss': 0.023391621187329292, 'val_log loss': 0.11547864228487015}\n",
      "{'log loss': 0.014374264515936375, 'val_log loss': 0.07531371712684631}\n",
      "{'log loss': 0.011625170707702637, 'val_log loss': 0.05727154016494751}\n",
      "{'log loss': 0.010774239897727966, 'val_log loss': 0.04967676103115082}\n",
      "{'log loss': 0.010179542936384678, 'val_log loss': 0.04598785936832428}\n",
      "{'log loss': 0.009585930034518242, 'val_log loss': 0.04356260970234871}\n",
      "{'log loss': 0.008999733254313469, 'val_log loss': 0.04152704402804375}\n",
      "{'log loss': 0.008437654934823513, 'val_log loss': 0.03965133801102638}\n",
      "{'log loss': 0.007904842495918274, 'val_log loss': 0.0379016138613224}\n",
      "{'log loss': 0.007400883361697197, 'val_log loss': 0.03628066927194595}\n",
      "{'log loss': 0.0069243041798472404, 'val_log loss': 0.03478551283478737}\n",
      "{'log loss': 0.006474236026406288, 'val_log loss': 0.03340540826320648}\n",
      "{'log loss': 0.006050570867955685, 'val_log loss': 0.03212771192193031}\n",
      "{'log loss': 0.005653622094541788, 'val_log loss': 0.030941464006900787}\n",
      "{'log loss': 0.005283779464662075, 'val_log loss': 0.02983800880610943}\n",
      "{'log loss': 0.004941251594573259, 'val_log loss': 0.028810443356633186}\n",
      "{'log loss': 0.004625917412340641, 'val_log loss': 0.027852719649672508}\n",
      "{'log loss': 0.004337264224886894, 'val_log loss': 0.02695925347507}\n",
      "{'log loss': 0.004074355587363243, 'val_log loss': 0.02612474001944065}\n",
      "{'log loss': 0.0038358562160283327, 'val_log loss': 0.0253440011292696}\n",
      "{'log loss': 0.0036201009061187506, 'val_log loss': 0.024612080305814743}\n",
      "{'log loss': 0.003425175789743662, 'val_log loss': 0.023924462497234344}\n",
      "{'log loss': 0.0032490103039890528, 'val_log loss': 0.02327706292271614}\n",
      "{'log loss': 0.003089484293013811, 'val_log loss': 0.022666631266474724}\n",
      "{'log loss': 0.002944530686363578, 'val_log loss': 0.022090714424848557}\n",
      "{'log loss': 0.002812229795381427, 'val_log loss': 0.021547874435782433}\n",
      "{'log loss': 0.0026908789295703173, 'val_log loss': 0.021037442609667778}\n",
      "{'log loss': 0.002579031977802515, 'val_log loss': 0.020559191703796387}\n",
      "{'log loss': 0.0024755147751420736, 'val_log loss': 0.020112592726945877}\n",
      "{'log loss': 0.002379398560151458, 'val_log loss': 0.01969638280570507}\n",
      "{'log loss': 0.002289947122335434, 'val_log loss': 0.019308235496282578}\n",
      "{'log loss': 0.0022065681405365467, 'val_log loss': 0.0189449992030859}\n",
      "{'log loss': 0.002128767082467675, 'val_log loss': 0.01860320009291172}\n",
      "{'log loss': 0.0020561160054057837, 'val_log loss': 0.018279558047652245}\n",
      "{'log loss': 0.001988236093893647, 'val_log loss': 0.017971379682421684}\n",
      "{'log loss': 0.001924786251038313, 'val_log loss': 0.017676593735814095}\n",
      "{'log loss': 0.001865452155470848, 'val_log loss': 0.017393749207258224}\n",
      "{'log loss': 0.001809943001717329, 'val_log loss': 0.01712188310921192}\n",
      "{'log loss': 0.0017579797422513366, 'val_log loss': 0.016860323026776314}\n",
      "{'log loss': 0.0017092960188165307, 'val_log loss': 0.01660861447453499}\n",
      "{'log loss': 0.0016636323416605592, 'val_log loss': 0.016366401687264442}\n",
      "{'log loss': 0.0016207365551963449, 'val_log loss': 0.016133321449160576}\n",
      "{'log loss': 0.0015803624410182238, 'val_log loss': 0.015908973291516304}\n",
      "{'log loss': 0.0015422733267769217, 'val_log loss': 0.015692854300141335}\n",
      "{'log loss': 0.0015062406891956925, 'val_log loss': 0.015484350733458996}\n",
      "{'log loss': 0.0014720518374815583, 'val_log loss': 0.015282741747796535}\n",
      "{'log loss': 0.0014395059552043676, 'val_log loss': 0.015087173320353031}\n",
      "{'log loss': 0.0014084212016314268, 'val_log loss': 0.014896741136908531}\n",
      "{'log loss': 0.0013786316849291325, 'val_log loss': 0.014710497111082077}\n",
      "{'log loss': 0.001349991769529879, 'val_log loss': 0.014527452178299427}\n",
      "{'log loss': 0.0013223756104707718, 'val_log loss': 0.014346706680953503}\n",
      "{'log loss': 0.0012956770369783044, 'val_log loss': 0.01416742242872715}\n",
      "{'log loss': 0.0012698117643594742, 'val_log loss': 0.013988924212753773}\n",
      "{'log loss': 0.0012447168119251728, 'val_log loss': 0.013810754753649235}\n",
      "{'log loss': 0.0012203488731756806, 'val_log loss': 0.013632711954414845}\n",
      "{'log loss': 0.0011966843158006668, 'val_log loss': 0.01345483586192131}\n",
      "{'log loss': 0.0011737154563888907, 'val_log loss': 0.013277455233037472}\n",
      "{'log loss': 0.0011514454381540418, 'val_log loss': 0.01310107484459877}\n",
      "{'log loss': 0.0011298821773380041, 'val_log loss': 0.012926295399665833}\n",
      "{'log loss': 0.0011090358020737767, 'val_log loss': 0.012753712944686413}\n",
      "{'log loss': 0.0010889113182201982, 'val_log loss': 0.012583840638399124}\n",
      "{'log loss': 0.0010695060482248664, 'val_log loss': 0.012417057529091835}\n",
      "{'log loss': 0.0010508096311241388, 'val_log loss': 0.012253636494278908}\n",
      "{'log loss': 0.0010328032076358795, 'val_log loss': 0.012093708850443363}\n",
      "{'log loss': 0.0010154605843126774, 'val_log loss': 0.011937296018004417}\n",
      "{'log loss': 0.0009987495141103864, 'val_log loss': 0.011784291826188564}\n",
      "{'log loss': 0.0009826354216784239, 'val_log loss': 0.011634537018835545}\n",
      "{'log loss': 0.0009670796571299434, 'val_log loss': 0.011487799696624279}\n",
      "{'log loss': 0.0009520448511466384, 'val_log loss': 0.011343813501298428}\n",
      "{'log loss': 0.000937493285164237, 'val_log loss': 0.011202298104763031}\n",
      "{'log loss': 0.000923388812225312, 'val_log loss': 0.011062992736697197}\n",
      "{'log loss': 0.0009096975554712117, 'val_log loss': 0.01092564594000578}\n",
      "{'log loss': 0.0008963880827650428, 'val_log loss': 0.010790066793560982}\n",
      "{'log loss': 0.0008834322215989232, 'val_log loss': 0.01065609697252512}\n",
      "{'log loss': 0.0008708040113560855, 'val_log loss': 0.01052361261099577}\n",
      "{'log loss': 0.0008584798197261989, 'val_log loss': 0.010392537340521812}\n",
      "{'log loss': 0.0008464401471428573, 'val_log loss': 0.01026283297687769}\n"
     ]
    }
   ],
   "source": [
    "from model import pre_train, predict_lstm_gen\n",
    "from CN.stock import Stock\n",
    "s = Stock('002230')\n",
    "data = s.get_data()['close']\n",
    "input_size,target_len = 100, 2\n",
    "base = data.max()\n",
    "last_idx = data.idxmax()\n",
    "lstm_model = pre_train(data,base,input_size,target_len)"
   ]
  },
  {
   "cell_type": "code",
   "execution_count": 2,
   "id": "8ce2eea5",
   "metadata": {},
   "outputs": [
    {
     "data": {
      "text/plain": [
       "101"
      ]
     },
     "execution_count": 2,
     "metadata": {},
     "output_type": "execute_result"
    }
   ],
   "source": [
    "len(data.iloc[last_idx-99:])"
   ]
  },
  {
   "cell_type": "code",
   "execution_count": 3,
   "id": "bf3a1c2a",
   "metadata": {},
   "outputs": [
    {
     "name": "stdout",
     "output_type": "stream",
     "text": [
      "tensor(0.6939, grad_fn=<SelectBackward0>)\n",
      "tensor(0.6940, grad_fn=<SelectBackward0>)\n"
     ]
    }
   ],
   "source": [
    "pred = predict_lstm_gen(data.iloc[last_idx-input_size+1:]/base,lstm_model,input_size,target_len)*base\n"
   ]
  },
  {
   "cell_type": "code",
   "execution_count": 4,
   "id": "a2ff81cc",
   "metadata": {},
   "outputs": [
    {
     "data": {
      "text/plain": [
       "array([51.55      , 56.71      , 60.02      , 60.46      , 58.24      ,\n",
       "       59.25      , 58.77      , 63.68      , 69.3       , 65.9       ,\n",
       "       48.08804993, 48.0919203 ])"
      ]
     },
     "execution_count": 4,
     "metadata": {},
     "output_type": "execute_result"
    }
   ],
   "source": [
    "pred[-12:]"
   ]
  },
  {
   "cell_type": "code",
   "execution_count": null,
   "id": "85440c60",
   "metadata": {},
   "outputs": [],
   "source": []
  },
  {
   "cell_type": "code",
   "execution_count": null,
   "id": "92971924",
   "metadata": {},
   "outputs": [],
   "source": []
  }
 ],
 "metadata": {
  "kernelspec": {
   "display_name": "Python 3 (ipykernel)",
   "language": "python",
   "name": "python3"
  },
  "language_info": {
   "codemirror_mode": {
    "name": "ipython",
    "version": 3
   },
   "file_extension": ".py",
   "mimetype": "text/x-python",
   "name": "python",
   "nbconvert_exporter": "python",
   "pygments_lexer": "ipython3",
   "version": "3.9.13"
  }
 },
 "nbformat": 4,
 "nbformat_minor": 5
}
